{
 "cells": [
  {
   "cell_type": "code",
   "execution_count": 5,
   "id": "c19bdf79",
   "metadata": {},
   "outputs": [],
   "source": [
    "import numpy as np\n",
    "import matplotlib.pyplot as plt\n",
    "import pandas as pd\n",
    "import dash\n",
    "from dash import dcc, html, Input, Output\n",
    "import plotly.express as px"
   ]
  },
  {
   "cell_type": "code",
   "execution_count": 8,
   "id": "237fd242",
   "metadata": {},
   "outputs": [],
   "source": [
    "# Load the first CSV file\n",
    "df1 = pd.read_csv('../project_dataset/extract - fees - data analyst.csv')\n",
    "\n",
    "# Load the second CSV file\n",
    "df2 = pd.read_csv('../project_dataset/extract - cash request - data analyst.csv')\n"
   ]
  },
  {
   "cell_type": "code",
   "execution_count": null,
   "id": "15b0d334",
   "metadata": {},
   "outputs": [
    {
     "name": "stdout",
     "output_type": "stream",
     "text": [
      "DataFrame 1 Shape: (21061, 13)\n",
      "\n",
      "DataFrame 1 Head:\n",
      "      id  cash_request_id             type    status               category  \\\n",
      "0   6537          14941.0  instant_payment  rejected                    NaN   \n",
      "1   6961          11714.0         incident  accepted  rejected_direct_debit   \n",
      "2  16296          23371.0  instant_payment  accepted                    NaN   \n",
      "3  20775          26772.0  instant_payment  accepted                    NaN   \n",
      "4  11242          19350.0  instant_payment  accepted                    NaN   \n",
      "\n",
      "   total_amount                              reason  \\\n",
      "0           5.0  Instant Payment Cash Request 14941   \n",
      "1           5.0               rejected direct debit   \n",
      "2           5.0  Instant Payment Cash Request 23371   \n",
      "3           5.0  Instant Payment Cash Request 26772   \n",
      "4           5.0  Instant Payment Cash Request 19350   \n",
      "\n",
      "                      created_at                     updated_at  \\\n",
      "0   2020-09-07 10:47:27.42315+00  2020-10-13 14:25:09.396112+00   \n",
      "1  2020-09-09 20:51:17.998653+00  2020-10-13 14:25:15.537063+00   \n",
      "2  2020-10-23 10:10:58.352972+00  2020-10-23 10:10:58.352994+00   \n",
      "3  2020-10-31 15:46:53.643958+00  2020-10-31 15:46:53.643982+00   \n",
      "4  2020-10-06 08:20:17.170432+00  2020-10-13 14:25:03.267983+00   \n",
      "\n",
      "                         paid_at from_date to_date charge_moment  \n",
      "0   2020-12-17 14:50:07.47011+00       NaN     NaN         after  \n",
      "1   2020-12-08 17:13:10.45908+00       NaN     NaN         after  \n",
      "2   2020-11-04 19:34:37.43291+00       NaN     NaN         after  \n",
      "3  2020-11-19 05:09:22.500223+00       NaN     NaN         after  \n",
      "4  2020-11-02 14:45:20.355598+00       NaN     NaN         after  \n",
      "\n",
      "DataFrame 1 Data Types:\n",
      "id                   int64\n",
      "cash_request_id    float64\n",
      "type                object\n",
      "status              object\n",
      "category            object\n",
      "total_amount       float64\n",
      "reason              object\n",
      "created_at          object\n",
      "updated_at          object\n",
      "paid_at             object\n",
      "from_date           object\n",
      "to_date             object\n",
      "charge_moment       object\n",
      "dtype: object\n"
     ]
    }
   ],
   "source": [
    "# Getting the number of rows and columns\n",
    "print(\"DataFrame 1 Shape:\", df1.shape)\n",
    "\n",
    "# Displaying the first few rows\n",
    "print(\"\\nDataFrame 1 Head:\")\n",
    "print(df1.head())\n",
    "\n",
    "# Displaying data types of each column\n",
    "print(\"\\nDataFrame 1 Data Types:\")\n",
    "print(df1.dtypes)\n"
   ]
  },
  {
   "cell_type": "code",
   "execution_count": 10,
   "id": "b53f5dff",
   "metadata": {},
   "outputs": [
    {
     "data": {
      "text/plain": [
       "np.int64(0)"
      ]
     },
     "execution_count": 10,
     "metadata": {},
     "output_type": "execute_result"
    }
   ],
   "source": [
    "df1.duplicated().sum()"
   ]
  },
  {
   "cell_type": "code",
   "execution_count": 11,
   "id": "9115a761",
   "metadata": {},
   "outputs": [
    {
     "data": {
      "text/plain": [
       "id                     0\n",
       "cash_request_id        4\n",
       "type                   0\n",
       "status                 0\n",
       "category           18865\n",
       "total_amount           0\n",
       "reason                 0\n",
       "created_at             0\n",
       "updated_at             0\n",
       "paid_at             5530\n",
       "from_date          13295\n",
       "to_date            13295\n",
       "charge_moment          0\n",
       "dtype: int64"
      ]
     },
     "execution_count": 11,
     "metadata": {},
     "output_type": "execute_result"
    }
   ],
   "source": [
    "df1.isna().sum()"
   ]
  },
  {
   "cell_type": "code",
   "execution_count": 12,
   "id": "9afd6494",
   "metadata": {},
   "outputs": [
    {
     "name": "stdout",
     "output_type": "stream",
     "text": [
      "<class 'pandas.core.frame.DataFrame'>\n",
      "RangeIndex: 21061 entries, 0 to 21060\n",
      "Data columns (total 13 columns):\n",
      " #   Column           Non-Null Count  Dtype  \n",
      "---  ------           --------------  -----  \n",
      " 0   id               21061 non-null  int64  \n",
      " 1   cash_request_id  21057 non-null  float64\n",
      " 2   type             21061 non-null  object \n",
      " 3   status           21061 non-null  object \n",
      " 4   category         2196 non-null   object \n",
      " 5   total_amount     21061 non-null  float64\n",
      " 6   reason           21061 non-null  object \n",
      " 7   created_at       21061 non-null  object \n",
      " 8   updated_at       21061 non-null  object \n",
      " 9   paid_at          15531 non-null  object \n",
      " 10  from_date        7766 non-null   object \n",
      " 11  to_date          7766 non-null   object \n",
      " 12  charge_moment    21061 non-null  object \n",
      "dtypes: float64(2), int64(1), object(10)\n",
      "memory usage: 2.1+ MB\n"
     ]
    }
   ],
   "source": [
    "df1.info()"
   ]
  },
  {
   "cell_type": "code",
   "execution_count": 16,
   "id": "9e61677e",
   "metadata": {},
   "outputs": [
    {
     "name": "stdout",
     "output_type": "stream",
     "text": [
      "DataFrame 1 Shape: (23970, 16)\n",
      "\n",
      "DataFrame 1 Head:\n",
      "     id  amount    status                     created_at  \\\n",
      "0     5   100.0  rejected  2019-12-10 19:05:21.596873+00   \n",
      "1    70   100.0  rejected   2019-12-10 19:50:12.34778+00   \n",
      "2     7   100.0  rejected   2019-12-10 19:13:35.82546+00   \n",
      "3    10    99.0  rejected  2019-12-10 19:16:10.880172+00   \n",
      "4  1594   100.0  rejected  2020-05-06 09:59:38.877376+00   \n",
      "\n",
      "                      updated_at  user_id                   moderated_at  \\\n",
      "0   2019-12-11 16:47:42.40783+00    804.0  2019-12-11 16:47:42.405646+00   \n",
      "1  2019-12-11 14:24:22.900054+00    231.0  2019-12-11 14:24:22.897988+00   \n",
      "2  2019-12-11 09:46:59.779773+00    191.0  2019-12-11 09:46:59.777728+00   \n",
      "3  2019-12-18 14:26:18.136163+00    761.0  2019-12-18 14:26:18.128407+00   \n",
      "4   2020-05-07 09:21:55.34008+00   7686.0  2020-05-07 09:21:55.320193+00   \n",
      "\n",
      "   deleted_account_id             reimbursement_date  \\\n",
      "0                 NaN  2020-01-09 19:05:21.596363+00   \n",
      "1                 NaN   2020-01-09 19:50:12.34778+00   \n",
      "2                 NaN  2020-01-09 19:13:35.825041+00   \n",
      "3                 NaN  2020-01-09 19:16:10.879606+00   \n",
      "4                 NaN         2020-06-05 22:00:00+00   \n",
      "\n",
      "  cash_request_received_date money_back_date transfer_type send_at  \\\n",
      "0                        NaN             NaN       regular     NaN   \n",
      "1                        NaN             NaN       regular     NaN   \n",
      "2                        NaN             NaN       regular     NaN   \n",
      "3                        NaN             NaN       regular     NaN   \n",
      "4                        NaN             NaN       regular     NaN   \n",
      "\n",
      "  recovery_status reco_creation reco_last_update  \n",
      "0             NaN           NaN              NaN  \n",
      "1             NaN           NaN              NaN  \n",
      "2             NaN           NaN              NaN  \n",
      "3             NaN           NaN              NaN  \n",
      "4             NaN           NaN              NaN  \n",
      "\n",
      "DataFrame 1 Data Types:\n",
      "id                              int64\n",
      "amount                        float64\n",
      "status                         object\n",
      "created_at                     object\n",
      "updated_at                     object\n",
      "user_id                       float64\n",
      "moderated_at                   object\n",
      "deleted_account_id            float64\n",
      "reimbursement_date             object\n",
      "cash_request_received_date     object\n",
      "money_back_date                object\n",
      "transfer_type                  object\n",
      "send_at                        object\n",
      "recovery_status                object\n",
      "reco_creation                  object\n",
      "reco_last_update               object\n",
      "dtype: object\n"
     ]
    }
   ],
   "source": [
    "# Getting the number of rows and columns\n",
    "print(\"DataFrame 1 Shape:\", df2.shape)\n",
    "\n",
    "# Displaying the first few rows\n",
    "print(\"\\nDataFrame 1 Head:\")\n",
    "print(df2.head())\n",
    "\n",
    "# Displaying data types of each column\n",
    "print(\"\\nDataFrame 1 Data Types:\")\n",
    "print(df2.dtypes)\n"
   ]
  },
  {
   "cell_type": "code",
   "execution_count": 17,
   "id": "d2ea3f4a",
   "metadata": {},
   "outputs": [
    {
     "data": {
      "text/plain": [
       "np.int64(0)"
      ]
     },
     "execution_count": 17,
     "metadata": {},
     "output_type": "execute_result"
    }
   ],
   "source": [
    "df2.duplicated().sum()\n"
   ]
  },
  {
   "cell_type": "code",
   "execution_count": 18,
   "id": "aeeb9f98",
   "metadata": {},
   "outputs": [
    {
     "data": {
      "text/plain": [
       "id                                0\n",
       "amount                            0\n",
       "status                            0\n",
       "created_at                        0\n",
       "updated_at                        0\n",
       "user_id                        2103\n",
       "moderated_at                   7935\n",
       "deleted_account_id            21866\n",
       "reimbursement_date                0\n",
       "cash_request_received_date     7681\n",
       "money_back_date                7427\n",
       "transfer_type                     0\n",
       "send_at                        7329\n",
       "recovery_status               20640\n",
       "reco_creation                 20640\n",
       "reco_last_update              20640\n",
       "dtype: int64"
      ]
     },
     "execution_count": 18,
     "metadata": {},
     "output_type": "execute_result"
    }
   ],
   "source": [
    "df2.isna().sum()\n"
   ]
  },
  {
   "cell_type": "code",
   "execution_count": 19,
   "id": "05bf1b52",
   "metadata": {},
   "outputs": [
    {
     "name": "stdout",
     "output_type": "stream",
     "text": [
      "<class 'pandas.core.frame.DataFrame'>\n",
      "RangeIndex: 23970 entries, 0 to 23969\n",
      "Data columns (total 16 columns):\n",
      " #   Column                      Non-Null Count  Dtype  \n",
      "---  ------                      --------------  -----  \n",
      " 0   id                          23970 non-null  int64  \n",
      " 1   amount                      23970 non-null  float64\n",
      " 2   status                      23970 non-null  object \n",
      " 3   created_at                  23970 non-null  object \n",
      " 4   updated_at                  23970 non-null  object \n",
      " 5   user_id                     21867 non-null  float64\n",
      " 6   moderated_at                16035 non-null  object \n",
      " 7   deleted_account_id          2104 non-null   float64\n",
      " 8   reimbursement_date          23970 non-null  object \n",
      " 9   cash_request_received_date  16289 non-null  object \n",
      " 10  money_back_date             16543 non-null  object \n",
      " 11  transfer_type               23970 non-null  object \n",
      " 12  send_at                     16641 non-null  object \n",
      " 13  recovery_status             3330 non-null   object \n",
      " 14  reco_creation               3330 non-null   object \n",
      " 15  reco_last_update            3330 non-null   object \n",
      "dtypes: float64(3), int64(1), object(12)\n",
      "memory usage: 2.9+ MB\n"
     ]
    }
   ],
   "source": [
    "df2.info()"
   ]
  },
  {
   "cell_type": "code",
   "execution_count": null,
   "id": "4a5de2cd",
   "metadata": {},
   "outputs": [],
   "source": []
  }
 ],
 "metadata": {
  "kernelspec": {
   "display_name": "myenv",
   "language": "python",
   "name": "python3"
  },
  "language_info": {
   "codemirror_mode": {
    "name": "ipython",
    "version": 3
   },
   "file_extension": ".py",
   "mimetype": "text/x-python",
   "name": "python",
   "nbconvert_exporter": "python",
   "pygments_lexer": "ipython3",
   "version": "3.11.5"
  }
 },
 "nbformat": 4,
 "nbformat_minor": 5
}
