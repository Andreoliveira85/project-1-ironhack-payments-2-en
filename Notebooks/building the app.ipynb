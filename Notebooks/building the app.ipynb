{
 "cells": [
  {
   "cell_type": "code",
   "execution_count": null,
   "id": "4b195a27",
   "metadata": {},
   "outputs": [],
   "source": [
    "import pandas as pd\n",
    "import os\n",
    "\n",
    "def load_data():\n",
    "    # Load both datasets\n",
    "    import pandas as pd\n",
    "    print(\"Current Working Directory:\", os.getcwd())\n",
    "    df1 = pd.read_csv('../project_dataset/extract - fees - data analyst.csv')\n",
    "    df2 = pd.read_csv('../project_dataset/extract - cash request - data analyst.csv')\n",
    "    return df1, df2\n"
   ]
  },
  {
   "cell_type": "code",
   "execution_count": null,
   "id": "8f3b2ada",
   "metadata": {},
   "outputs": [],
   "source": []
  }
 ],
 "metadata": {
  "language_info": {
   "name": "python"
  }
 },
 "nbformat": 4,
 "nbformat_minor": 5
}
